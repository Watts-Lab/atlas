{
 "cells": [
  {
   "cell_type": "code",
   "execution_count": 4,
   "metadata": {},
   "outputs": [],
   "source": [
    "import importlib"
   ]
  },
  {
   "cell_type": "code",
   "execution_count": 8,
   "metadata": {},
   "outputs": [],
   "source": [
    "import features.condition.name\n",
    "import features.condition.type\n",
    "\n"
   ]
  },
  {
   "cell_type": "code",
   "execution_count": 5,
   "metadata": {},
   "outputs": [
    {
     "ename": "ModuleNotFoundError",
     "evalue": "No module named 'features.condition.condition'",
     "output_type": "error",
     "traceback": [
      "\u001b[0;31m---------------------------------------------------------------------------\u001b[0m",
      "\u001b[0;31mModuleNotFoundError\u001b[0m                       Traceback (most recent call last)",
      "Cell \u001b[0;32mIn[5], line 15\u001b[0m\n\u001b[1;32m     11\u001b[0m     \u001b[38;5;28;01mreturn\u001b[39;00m module\u001b[38;5;241m.\u001b[39mFeature\n\u001b[1;32m     14\u001b[0m \u001b[38;5;28;01mfor\u001b[39;00m feature_path \u001b[38;5;129;01min\u001b[39;00m FEATURES:\n\u001b[0;32m---> 15\u001b[0m     FeatureClass \u001b[38;5;241m=\u001b[39m \u001b[43mload_feature\u001b[49m\u001b[43m(\u001b[49m\u001b[43mfeature_path\u001b[49m\u001b[43m)\u001b[49m\n\u001b[1;32m     16\u001b[0m     feature_instance \u001b[38;5;241m=\u001b[39m FeatureClass()\n\u001b[1;32m     17\u001b[0m     feature_instance\u001b[38;5;241m.\u001b[39mdisplay()\n",
      "Cell \u001b[0;32mIn[5], line 10\u001b[0m, in \u001b[0;36mload_feature\u001b[0;34m(module_path)\u001b[0m\n\u001b[1;32m      9\u001b[0m \u001b[38;5;28;01mdef\u001b[39;00m \u001b[38;5;21mload_feature\u001b[39m(module_path):\n\u001b[0;32m---> 10\u001b[0m     module \u001b[38;5;241m=\u001b[39m \u001b[43mimportlib\u001b[49m\u001b[38;5;241;43m.\u001b[39;49m\u001b[43mimport_module\u001b[49m\u001b[43m(\u001b[49m\u001b[43mmodule_path\u001b[49m\u001b[43m)\u001b[49m\n\u001b[1;32m     11\u001b[0m     \u001b[38;5;28;01mreturn\u001b[39;00m module\u001b[38;5;241m.\u001b[39mFeature\n",
      "File \u001b[0;32m/Library/Frameworks/Python.framework/Versions/3.12/lib/python3.12/importlib/__init__.py:90\u001b[0m, in \u001b[0;36mimport_module\u001b[0;34m(name, package)\u001b[0m\n\u001b[1;32m     88\u001b[0m             \u001b[38;5;28;01mbreak\u001b[39;00m\n\u001b[1;32m     89\u001b[0m         level \u001b[38;5;241m+\u001b[39m\u001b[38;5;241m=\u001b[39m \u001b[38;5;241m1\u001b[39m\n\u001b[0;32m---> 90\u001b[0m \u001b[38;5;28;01mreturn\u001b[39;00m \u001b[43m_bootstrap\u001b[49m\u001b[38;5;241;43m.\u001b[39;49m\u001b[43m_gcd_import\u001b[49m\u001b[43m(\u001b[49m\u001b[43mname\u001b[49m\u001b[43m[\u001b[49m\u001b[43mlevel\u001b[49m\u001b[43m:\u001b[49m\u001b[43m]\u001b[49m\u001b[43m,\u001b[49m\u001b[43m \u001b[49m\u001b[43mpackage\u001b[49m\u001b[43m,\u001b[49m\u001b[43m \u001b[49m\u001b[43mlevel\u001b[49m\u001b[43m)\u001b[49m\n",
      "File \u001b[0;32m<frozen importlib._bootstrap>:1387\u001b[0m, in \u001b[0;36m_gcd_import\u001b[0;34m(name, package, level)\u001b[0m\n",
      "File \u001b[0;32m<frozen importlib._bootstrap>:1360\u001b[0m, in \u001b[0;36m_find_and_load\u001b[0;34m(name, import_)\u001b[0m\n",
      "File \u001b[0;32m<frozen importlib._bootstrap>:1324\u001b[0m, in \u001b[0;36m_find_and_load_unlocked\u001b[0;34m(name, import_)\u001b[0m\n",
      "\u001b[0;31mModuleNotFoundError\u001b[0m: No module named 'features.condition.condition'"
     ]
    }
   ],
   "source": [
    "FEATURES = [\n",
    "    \"features.condition.name\",\n",
    "    \"features.condition.condition_description\",\n",
    "    \"features.condition.condition_type\",\n",
    "    \"features.condition.condition_message\",\n",
    "]\n",
    "\n",
    "def load_feature(module_path):\n",
    "    module = importlib.import_module(module_path)\n",
    "    return module.Feature\n",
    "\n",
    "\n",
    "for feature_path in FEATURES:\n",
    "    FeatureClass = load_feature(feature_path)\n",
    "    feature_instance = Feature()\n",
    "    feature_instance.display()"
   ]
  },
  {
   "cell_type": "code",
   "execution_count": 2,
   "metadata": {},
   "outputs": [
    {
     "ename": "AttributeError",
     "evalue": "module 'features.condition.condition_name' has no attribute 'name'",
     "output_type": "error",
     "traceback": [
      "\u001b[0;31m---------------------------------------------------------------------------\u001b[0m",
      "\u001b[0;31mAttributeError\u001b[0m                            Traceback (most recent call last)",
      "Cell \u001b[0;32mIn[2], line 3\u001b[0m\n\u001b[1;32m      1\u001b[0m \u001b[38;5;28;01mimport\u001b[39;00m \u001b[38;5;21;01mfeatures\u001b[39;00m\u001b[38;5;21;01m.\u001b[39;00m\u001b[38;5;21;01mcondition\u001b[39;00m\u001b[38;5;21;01m.\u001b[39;00m\u001b[38;5;21;01mcondition_name\u001b[39;00m \u001b[38;5;28;01mas\u001b[39;00m \u001b[38;5;21;01mcd\u001b[39;00m\n\u001b[0;32m----> 3\u001b[0m \u001b[38;5;28mprint\u001b[39m(\u001b[43mcd\u001b[49m\u001b[38;5;241;43m.\u001b[39;49m\u001b[43mname\u001b[49m)\n",
      "\u001b[0;31mAttributeError\u001b[0m: module 'features.condition.condition_name' has no attribute 'name'"
     ]
    }
   ],
   "source": [
    "import features.condition.condition_name\n",
    "\n",
    "print(cd.name)\n"
   ]
  },
  {
   "cell_type": "code",
   "execution_count": 1,
   "metadata": {},
   "outputs": [
    {
     "name": "stderr",
     "output_type": "stream",
     "text": [
      "/Users/amir/Documents/personal/atlas/.venv/lib/python3.12/site-packages/tqdm/auto.py:21: TqdmWarning: IProgress not found. Please update jupyter and ipywidgets. See https://ipywidgets.readthedocs.io/en/stable/user_install.html\n",
      "  from .autonotebook import tqdm as notebook_tqdm\n",
      "/Users/amir/Documents/personal/atlas/.venv/lib/python3.12/site-packages/huggingface_hub/file_download.py:1132: FutureWarning: `resume_download` is deprecated and will be removed in version 1.0.0. Downloads always resume when possible. If you want to force a new download, use `force_download=True`.\n",
      "  warnings.warn(\n"
     ]
    },
    {
     "name": "stdout",
     "output_type": "stream",
     "text": [
      "Loaded detection model vikp/surya_det2 on device cpu with dtype torch.float32\n",
      "Loaded detection model vikp/surya_layout2 on device cpu with dtype torch.float32\n",
      "Loaded reading order model vikp/surya_order on device mps with dtype torch.float16\n",
      "Loaded recognition model vikp/surya_rec on device mps with dtype torch.float16\n",
      "Loaded texify model to mps with torch.float16 dtype\n"
     ]
    }
   ],
   "source": [
    "from marker.convert import convert_single_pdf\n",
    "from marker.models import load_all_models\n",
    "\n",
    "models = load_all_models()"
   ]
  },
  {
   "cell_type": "code",
   "execution_count": 2,
   "metadata": {},
   "outputs": [
    {
     "name": "stderr",
     "output_type": "stream",
     "text": [
      "Detecting bboxes: 100%|██████████| 6/6 [02:46<00:00, 27.80s/it]\n",
      "Recognizing Text: 100%|██████████| 22/22 [02:22<00:00,  6.47s/it]\n",
      "Detecting bboxes: 100%|██████████| 4/4 [01:47<00:00, 26.79s/it]\n",
      "Finding reading order: 100%|██████████| 4/4 [00:41<00:00, 10.28s/it]\n"
     ]
    }
   ],
   "source": [
    "import os\n",
    "from marker.output import save_markdown\n",
    "\n",
    "fname = \"A_67a_2021_ BehaviouralNudgesIncrease-1.pdf\"\n",
    "\n",
    "full_text, images, out_meta = convert_single_pdf(fname, models, langs=[\"English\"])\n",
    "\n",
    "fname = os.path.basename(fname)\n",
    "subfolder_path = save_markdown(\"output\", fname, full_text, images, out_meta)"
   ]
  },
  {
   "cell_type": "code",
   "execution_count": 2,
   "metadata": {},
   "outputs": [],
   "source": [
    "from openai import OpenAI\n",
    "\n",
    "client = OpenAI()\n",
    "\n",
    "# assistant = client.beta.assistants.create(\n",
    "#     name=\"Atlas\",\n",
    "#     instructions=\"You are a research assistnant for a team of scientists. You are tasked with summarizing the key findings of a scientific paper. You are given a PDF of the paper and are asked to provide a summary of the key findings. Your response should be in JSON format.\",\n",
    "#     tools=[{\"type\": \"file_search\"}],\n",
    "#     # tool_resources={\n",
    "#     #     \"file_search\": {\n",
    "#     #         \"vector_stores\": [{\"file_ids\": [\"file-ZU0vYdkmuhU5e2zyJwQHQnyL\"]}]\n",
    "#     #     }\n",
    "#     # },\n",
    "#     model=\"gpt-4o\",\n",
    "# )"
   ]
  },
  {
   "cell_type": "markdown",
   "metadata": {},
   "source": [
    "Storing the file in OpenAI storage"
   ]
  },
  {
   "cell_type": "code",
   "execution_count": 11,
   "metadata": {},
   "outputs": [
    {
     "data": {
      "text/plain": [
       "FileObject(id='file-ZU0vYdkmuhU5e2zyJwQHQnyL', bytes=106543, created_at=1717935603, filename='nadelhoffer2005.pdf', object='file', purpose='assistants', status='processed', status_details=None)"
      ]
     },
     "execution_count": 11,
     "metadata": {},
     "output_type": "execute_result"
    }
   ],
   "source": [
    "file_meta = client.files.create(file=open(\"nadelhoffer2005.pdf\", \"rb\"), purpose=\"assistants\")\n",
    "file_meta"
   ]
  },
  {
   "cell_type": "code",
   "execution_count": 2,
   "metadata": {},
   "outputs": [],
   "source": [
    "file_info = client.files.create(\n",
    "    file=open(\"paper/A_67a_2021_ BehaviouralNudgesIncrease-1.pdf\", \"rb\"),\n",
    "    purpose=\"assistants\",\n",
    ")"
   ]
  },
  {
   "cell_type": "code",
   "execution_count": 5,
   "metadata": {},
   "outputs": [
    {
     "data": {
      "text/plain": [
       "FileObject(id='file-VSoj74LjdyHG2M6AkVmv7nGt', bytes=4122007, created_at=1718383878, filename='A_67a_2021_ BehaviouralNudgesIncrease-1.pdf', object='file', purpose='assistants', status='processed', status_details=None)"
      ]
     },
     "execution_count": 5,
     "metadata": {},
     "output_type": "execute_result"
    }
   ],
   "source": [
    "\n",
    "file_info"
   ]
  },
  {
   "cell_type": "code",
   "execution_count": 6,
   "metadata": {},
   "outputs": [],
   "source": [
    "vector_store = client.beta.vector_stores.create(\n",
    "    name=\"atlas_run_1\",\n",
    "    file_ids=[file_info.id],\n",
    "    expires_after={\"anchor\": \"last_active_at\", \"days\": 1},\n",
    ")"
   ]
  },
  {
   "cell_type": "code",
   "execution_count": 31,
   "metadata": {},
   "outputs": [
    {
     "data": {
      "text/plain": [
       "VectorStore(id='vs_Ilgie1ux8jXQ3kwcPF6y3jnE', bytes=None, created_at=1718383959, file_counts=FileCounts(cancelled=0, completed=0, failed=0, in_progress=1, total=1), last_active_at=1718383959, metadata={}, name='atlas_run_1', object='vector_store', status='in_progress', expires_after=ExpiresAfter(anchor='last_active_at', days=1), expires_at=1718470359, usage_bytes=0)"
      ]
     },
     "execution_count": 31,
     "metadata": {},
     "output_type": "execute_result"
    }
   ],
   "source": [
    "vector_store"
   ]
  },
  {
   "cell_type": "code",
   "execution_count": 46,
   "metadata": {},
   "outputs": [
    {
     "name": "stdout",
     "output_type": "stream",
     "text": [
      "date and time: 2024_06_14_20_06_40\n"
     ]
    }
   ],
   "source": [
    "\n",
    "print(\"date and time:\",date_time)\t"
   ]
  },
  {
   "cell_type": "code",
   "execution_count": 8,
   "metadata": {},
   "outputs": [
    {
     "name": "stdout",
     "output_type": "stream",
     "text": [
      "Assistant(id='asst_2THkE8dZlIZDDCZvd3ZBjara', created_at=1717936271, description=None, instructions='You are a research assistnant for a team of scientists. You are tasked with summarizing the key findings of a scientific paper. You are given a PDF of the paper and are asked to provide a summary of the key findings. Your response should be in JSON format.', metadata={}, model='gpt-4o', name='Atlas', object='assistant', tools=[FileSearchTool(type='file_search'), FunctionTool(function=FunctionDefinition(name='define_conditions', description='Define the conditions in the experiment. Each condition should be a separate object with specified properties.', parameters={'type': 'object', 'properties': {'conditions': {'type': 'array', 'description': 'Array of condition objects with detailed properties.', 'items': {'type': 'object', 'properties': {'condition_name': {'type': 'string', 'description': 'Name for the condition, typically one or two words.'}, 'condition_details': {'type': 'string', 'description': 'Detailed description of each condition.'}, 'condition_type': {'type': 'string', 'enum': ['treatment', 'do nothing control', 'plain vanilla control', 'business as usual control', 'business as usual do-nothing control'], 'description': 'Type of the condition as control or treatment.'}, 'condition_message': {'type': 'string', 'enum': ['Yes', 'No', 'Do-nothing'], 'description': 'Indicates whether the condition involves a major messaging component.'}, 'condition_touchpoints_core': {'type': 'number', 'description': 'Number of touchpoints independent of any action by the participant.'}, 'condition_touchpoints_max': {'type': 'number', 'description': 'Maximum number of touchpoints including those dependent on participant actions.'}, 'condition_financial': {'type': 'string', 'enum': ['Yes', 'No'], 'description': 'Whether the condition involves financial incentives.'}, 'condition_educational': {'type': 'string', 'enum': ['Yes', 'No'], 'description': 'Whether the condition involves providing education or training.'}, 'condition_forbid': {'type': 'string', 'enum': ['Yes', 'No'], 'description': 'Whether the condition forbids any options or restricts the choice situation.'}, 'condition_easy': {'type': 'string', 'enum': ['Yes', 'No'], 'description': 'Whether the condition makes the behavior easier to do.'}, 'condition_attractive': {'type': 'string', 'enum': ['Yes', 'No'], 'description': 'Whether the condition makes the behavior more attractive to do.'}, 'condition_social': {'type': 'string', 'enum': ['Yes', 'No'], 'description': 'Whether the condition makes the behavior more social to do.'}, 'condition_timely': {'type': 'string', 'enum': ['Yes', 'No'], 'description': 'Whether the condition makes the behavior more timely to do.'}, 'condition_channel_snailmail': {'type': 'string', 'enum': ['Yes', 'No'], 'description': 'Whether the channel or delivery mechanism is snailmail.'}, 'condition_channel_email': {'type': 'string', 'enum': ['Yes', 'No'], 'description': 'Whether the channel or delivery mechanism is email.'}, 'condition_channel_paperlive': {'type': 'string', 'enum': ['Yes', 'No'], 'description': 'Whether the channel or delivery mechanism is physical paper delivered in person.'}, 'condition_channel_inperson': {'type': 'string', 'enum': ['Yes', 'No'], 'description': 'Whether the channel or delivery mechanism is in person.'}, 'condition_channel_mobileapp': {'type': 'string', 'enum': ['Yes', 'No'], 'description': 'Whether the channel or delivery mechanism is a mobile app.'}, 'condition_channel_online': {'type': 'string', 'enum': ['Yes', 'No'], 'description': 'Whether the channel or delivery mechanism is online.'}, 'condition_channel_sms': {'type': 'string', 'enum': ['Yes', 'No'], 'description': 'Whether the channel or delivery mechanism is SMS.'}, 'condition_channel_phone': {'type': 'string', 'enum': ['Yes', 'No'], 'description': 'Whether the channel or delivery mechanism is a phone call or voicemail.'}, 'condition_channel_nothing': {'type': 'string', 'enum': ['Yes', 'No'], 'description': 'Is it nothing? I.e., a do-nothing control?'}, 'condition_channel_other': {'type': 'string', 'description': 'Other channel or delivery mechanism if not specified above.'}, 'condition_sample': {'type': 'number', 'description': 'Number of units randomized into each condition.'}}}}}, 'required': []}), type='function')], response_format='auto', temperature=1.0, tool_resources=ToolResources(code_interpreter=None, file_search=ToolResourcesFileSearch(vector_store_ids=['vs_Ilgie1ux8jXQ3kwcPF6y3jnE'])), top_p=1.0)\n"
     ]
    }
   ],
   "source": [
    "my_updated_assistant = client.beta.assistants.update(\n",
    "    assistant_id=\"asst_2THkE8dZlIZDDCZvd3ZBjara\",\n",
    "    tool_resources={\"file_search\": {\"vector_store_ids\": [vector_store.id]}},\n",
    ")\n",
    "\n",
    "print(my_updated_assistant)"
   ]
  },
  {
   "cell_type": "code",
   "execution_count": 9,
   "metadata": {},
   "outputs": [],
   "source": [
    "f = {\n",
    "    \"name\": \"define_conditions\",\n",
    "    \"description\": \"Define the conditions in the experiment. Each condition should be a separate object with specified properties.\",\n",
    "    \"parameters\": {\n",
    "        \"type\": \"object\",\n",
    "        \"properties\": {\n",
    "            \"conditions\": {\n",
    "                \"type\": \"array\",\n",
    "                \"description\": \"Array of condition objects with detailed properties.\",\n",
    "                \"items\": {\n",
    "                    \"type\": \"object\",\n",
    "                    \"properties\": {\n",
    "                        \"condition_name\": {\n",
    "                            \"type\": \"string\",\n",
    "                            \"description\": \"Give each condition a one or two word name to describe it. Author's words: Where possible, use the label the research authors give it. Look at tables/figures to see their naming conventions for the conditions and use those if they exist. **Make sure the FIRST (1) condition is considered the CONTROL. This should be the condition you indicate is the focal comparator, in the results tab.\",\n",
    "                        },\n",
    "                        \"condition_description\": {\n",
    "                            \"type\": \"string\",\n",
    "                            \"description\": 'Describe each condition in greater detail. Author\\'s words: If the authors have a clear description of each condition in the paper itself, you can copy it here instead of paraphrasing. If their description is not clear enough on its own, or is very verbose, please paraphrase here. DO NOT mention specific \"nudge\" or \"choice architecture\" concepts here. If the authors do, and you are quoting them, paraphrase over those using brackets [xx]. Specific vocabulary words naming techniques or concepts should appear under \"condition_nudge\". ',\n",
    "                        },\n",
    "                        \"condition_type\": {\n",
    "                            \"type\": \"string\",\n",
    "                            \"description\": \"Is the condition considered a control or treatment in the original source? If there is no control, just call all of them treatment. If a control, specify:  - do-nothing control (e.g. no email sent) - plain vanilla control (e.g., the researcher took the treatment email and stripped out all interventions from it, making it a plain control email; it is created for the research and intended to be bland) - business as usual control (e.g., the email the organization was historically sending) - business as usual do-nothing control (e.g., the organization historically did nothing)\",\n",
    "                            \"enum\": [\n",
    "                                \"treatment\",\n",
    "                                \"do nothing control\",\n",
    "                                \"plain vanilla control\",\n",
    "                                \"business as usual control\",\n",
    "                                \"business as usual do-nothing control\",\n",
    "                            ],\n",
    "                        },\n",
    "                        \"condition_message\": {\n",
    "                            \"type\": \"string\",\n",
    "                            \"description\": 'Does the condition contain a major messaging component? \"Yes\" indicates that a big part of the condition is about changing language and / or visuals, rather than exclusively about structuring a process, digital, or physical environment or changing incentives.If it is a do-nothing intervention, select do-nothing.  ',\n",
    "                            \"enum\": [\"Yes\", \"No\", \"Do-nothing\"],\n",
    "                        },\n",
    "                    },\n",
    "                },\n",
    "            }\n",
    "        },\n",
    "        \"required\": [\"conditions\"],\n",
    "    },\n",
    "}"
   ]
  },
  {
   "cell_type": "code",
   "execution_count": 12,
   "metadata": {},
   "outputs": [],
   "source": [
    "my_updated_assistant = client.beta.assistants.update(\n",
    "    assistant_id=\"asst_2THkE8dZlIZDDCZvd3ZBjara\",\n",
    "    tool_resources={\"file_search\": {\"vector_store_ids\": [vector_store.id]}},\n",
    "    tools=[\n",
    "        {\"type\": \"file_search\"},\n",
    "        {\n",
    "            \"type\": \"function\",\n",
    "            \"function\": {\n",
    "                \"name\": \"define_conditions\",\n",
    "                \"description\": \"Define the conditions in the experiment. Each condition should be a separate object with specified properties.\",\n",
    "                \"parameters\": f[\"parameters\"],\n",
    "            },\n",
    "        },\n",
    "    ],\n",
    ")"
   ]
  },
  {
   "cell_type": "code",
   "execution_count": 13,
   "metadata": {},
   "outputs": [
    {
     "ename": "IndexError",
     "evalue": "list index out of range",
     "output_type": "error",
     "traceback": [
      "\u001b[0;31m---------------------------------------------------------------------------\u001b[0m",
      "\u001b[0;31mIndexError\u001b[0m                                Traceback (most recent call last)",
      "Cell \u001b[0;32mIn[13], line 19\u001b[0m\n\u001b[1;32m     11\u001b[0m run \u001b[38;5;241m=\u001b[39m client\u001b[38;5;241m.\u001b[39mbeta\u001b[38;5;241m.\u001b[39mthreads\u001b[38;5;241m.\u001b[39mruns\u001b[38;5;241m.\u001b[39mcreate_and_poll(\n\u001b[1;32m     12\u001b[0m     thread_id\u001b[38;5;241m=\u001b[39mthread_message\u001b[38;5;241m.\u001b[39mid, assistant_id\u001b[38;5;241m=\u001b[39mmy_updated_assistant\u001b[38;5;241m.\u001b[39mid\n\u001b[1;32m     13\u001b[0m )\n\u001b[1;32m     15\u001b[0m messages \u001b[38;5;241m=\u001b[39m \u001b[38;5;28mlist\u001b[39m(\n\u001b[1;32m     16\u001b[0m     client\u001b[38;5;241m.\u001b[39mbeta\u001b[38;5;241m.\u001b[39mthreads\u001b[38;5;241m.\u001b[39mmessages\u001b[38;5;241m.\u001b[39mlist(thread_id\u001b[38;5;241m=\u001b[39mthread_message\u001b[38;5;241m.\u001b[39mid, run_id\u001b[38;5;241m=\u001b[39mrun\u001b[38;5;241m.\u001b[39mid)\n\u001b[1;32m     17\u001b[0m )\n\u001b[0;32m---> 19\u001b[0m message_content \u001b[38;5;241m=\u001b[39m \u001b[43mmessages\u001b[49m\u001b[43m[\u001b[49m\u001b[38;5;241;43m0\u001b[39;49m\u001b[43m]\u001b[49m\u001b[38;5;241m.\u001b[39mcontent[\u001b[38;5;241m0\u001b[39m]\u001b[38;5;241m.\u001b[39mtext\n\u001b[1;32m     20\u001b[0m annotations \u001b[38;5;241m=\u001b[39m message_content\u001b[38;5;241m.\u001b[39mannotations\n\u001b[1;32m     21\u001b[0m citations \u001b[38;5;241m=\u001b[39m []\n",
      "\u001b[0;31mIndexError\u001b[0m: list index out of range"
     ]
    }
   ],
   "source": [
    "thread_message = client.beta.threads.create(\n",
    "    messages=[\n",
    "        {\n",
    "            \"role\": \"user\",\n",
    "            \"content\": \"define_conditions\",\n",
    "        }\n",
    "    ],\n",
    ")\n",
    "\n",
    "\n",
    "run = client.beta.threads.runs.create_and_poll(\n",
    "    thread_id=thread_message.id, assistant_id=my_updated_assistant.id\n",
    ")"
   ]
  },
  {
   "cell_type": "code",
   "execution_count": 17,
   "metadata": {},
   "outputs": [
    {
     "data": {
      "text/plain": [
       "Run(id='run_V4nSClSlzMo8KvKIGlamxIUB', assistant_id='asst_2THkE8dZlIZDDCZvd3ZBjara', cancelled_at=None, completed_at=None, created_at=1718385368, expires_at=1718385968, failed_at=None, incomplete_details=None, instructions='You are a research assistnant for a team of scientists. You are tasked with summarizing the key findings of a scientific paper. You are given a PDF of the paper and are asked to provide a summary of the key findings. Your response should be in JSON format.', last_error=None, max_completion_tokens=None, max_prompt_tokens=None, metadata={}, model='gpt-4o', object='thread.run', required_action=RequiredAction(submit_tool_outputs=RequiredActionSubmitToolOutputs(tool_calls=[RequiredActionFunctionToolCall(id='call_b7WeeofXLPCpJgaRhgv9MzLi', function=Function(arguments='{\"conditions\":[{\"condition_name\":\"Holdout\",\"condition_description\":\"Participants did not receive any text message reminder.\",\"condition_type\":\"plain vanilla control\",\"condition_message\":\"Do-nothing\"},{\"condition_name\":\"Basic Reminder\",\"condition_description\":\"Participants received a basic text reminder that included a link to the vaccination scheduling website.\",\"condition_type\":\"treatment\",\"condition_message\":\"Yes\"},{\"condition_name\":\"Ownership Reminder\",\"condition_description\":\"Participants received a text reminder that included language to induce feelings of ownership over the vaccine (e.g., \\'a COVID-19 vaccine has just been made available to you\\').\",\"condition_type\":\"treatment\",\"condition_message\":\"Yes\"},{\"condition_name\":\"Basic Reminder with Video\",\"condition_description\":\"Participants received the basic text reminder and were invited to watch a video aimed at addressing vaccine hesitancy.\",\"condition_type\":\"treatment\",\"condition_message\":\"Yes\"},{\"condition_name\":\"Ownership Reminder with Video\",\"condition_description\":\"Participants received the ownership text reminder and were invited to watch a video aimed at addressing vaccine hesitancy.\",\"condition_type\":\"treatment\",\"condition_message\":\"Yes\"},{\"condition_name\":\"Prosocial Reminder\",\"condition_description\":\"Participants received a text reminder that emphasized the prosocial benefits of getting vaccinated (e.g., \\'to protect your family, friends, and community\\').\",\"condition_type\":\"treatment\",\"condition_message\":\"Yes\"},{\"condition_name\":\"Early Access Reminder\",\"condition_description\":\"Participants received a text reminder emphasizing the exclusivity of early access to the COVID-19 vaccine.\",\"condition_type\":\"treatment\",\"condition_message\":\"Yes\"},{\"condition_name\":\"Fresh Start Reminder\",\"condition_description\":\"Participants received a text reminder that framed the act of getting vaccinated as an opportunity for a fresh start.\",\"condition_type\":\"treatment\",\"condition_message\":\"Yes\"}]}', name='define_conditions'), type='function')]), type='submit_tool_outputs'), response_format='auto', started_at=1718385369, status='requires_action', thread_id='thread_0QEM0fQGGuSELfu6YghCWOi6', tool_choice='auto', tools=[FileSearchTool(type='file_search'), FunctionTool(function=FunctionDefinition(name='define_conditions', description='Define the conditions in the experiment. Each condition should be a separate object with specified properties.', parameters={'type': 'object', 'properties': {'conditions': {'type': 'array', 'description': 'Array of condition objects with detailed properties.', 'items': {'type': 'object', 'properties': {'condition_name': {'type': 'string', 'description': \"Give each condition a one or two word name to describe it. Author's words: Where possible, use the label the research authors give it. Look at tables/figures to see their naming conventions for the conditions and use those if they exist. **Make sure the FIRST (1) condition is considered the CONTROL. This should be the condition you indicate is the focal comparator, in the results tab.\"}, 'condition_description': {'type': 'string', 'description': 'Describe each condition in greater detail. Author\\'s words: If the authors have a clear description of each condition in the paper itself, you can copy it here instead of paraphrasing. If their description is not clear enough on its own, or is very verbose, please paraphrase here. DO NOT mention specific \"nudge\" or \"choice architecture\" concepts here. If the authors do, and you are quoting them, paraphrase over those using brackets [xx]. Specific vocabulary words naming techniques or concepts should appear under \"condition_nudge\". '}, 'condition_type': {'type': 'string', 'description': 'Is the condition considered a control or treatment in the original source? If there is no control, just call all of them treatment. If a control, specify:  - do-nothing control (e.g. no email sent) - plain vanilla control (e.g., the researcher took the treatment email and stripped out all interventions from it, making it a plain control email; it is created for the research and intended to be bland) - business as usual control (e.g., the email the organization was historically sending) - business as usual do-nothing control (e.g., the organization historically did nothing)', 'enum': ['treatment', 'do nothing control', 'plain vanilla control', 'business as usual control', 'business as usual do-nothing control']}, 'condition_message': {'type': 'string', 'description': 'Does the condition contain a major messaging component? \"Yes\" indicates that a big part of the condition is about changing language and / or visuals, rather than exclusively about structuring a process, digital, or physical environment or changing incentives.If it is a do-nothing intervention, select do-nothing.  ', 'enum': ['Yes', 'No', 'Do-nothing']}}}}}, 'required': ['conditions']}), type='function')], truncation_strategy=TruncationStrategy(type='auto', last_messages=None), usage=None, temperature=1.0, top_p=1.0, tool_resources={}, parallel_tool_calls=True)"
      ]
     },
     "execution_count": 17,
     "metadata": {},
     "output_type": "execute_result"
    }
   ],
   "source": [
    "run"
   ]
  },
  {
   "cell_type": "code",
   "execution_count": 2,
   "metadata": {},
   "outputs": [
    {
     "ename": "NameError",
     "evalue": "name 'run' is not defined",
     "output_type": "error",
     "traceback": [
      "\u001b[0;31m---------------------------------------------------------------------------\u001b[0m",
      "\u001b[0;31mNameError\u001b[0m                                 Traceback (most recent call last)",
      "Cell \u001b[0;32mIn[2], line 3\u001b[0m\n\u001b[1;32m      1\u001b[0m \u001b[38;5;28;01mimport\u001b[39;00m \u001b[38;5;21;01mjson\u001b[39;00m\n\u001b[0;32m----> 3\u001b[0m json\u001b[38;5;241m.\u001b[39mloads(\u001b[43mrun\u001b[49m\u001b[38;5;241m.\u001b[39mrequired_action\u001b[38;5;241m.\u001b[39msubmit_tool_outputs\u001b[38;5;241m.\u001b[39mtool_calls[\u001b[38;5;241m0\u001b[39m]\u001b[38;5;241m.\u001b[39mfunction\u001b[38;5;241m.\u001b[39marguments)\n",
      "\u001b[0;31mNameError\u001b[0m: name 'run' is not defined"
     ]
    }
   ],
   "source": [
    "import json\n",
    "\n",
    "json.loads(run.required_action.submit_tool_outputs.tool_calls[0].function.arguments)"
   ]
  },
  {
   "cell_type": "code",
   "execution_count": 5,
   "metadata": {},
   "outputs": [
    {
     "name": "stdout",
     "output_type": "stream",
     "text": [
      "the JSON object must be str, bytes or bytearray, not NoneType\n"
     ]
    }
   ],
   "source": [
    "try:\n",
    "    json.loads(None)\n",
    "except json.JSONDecodeError as je:\n",
    "    print(je)\n",
    "except TypeError as te:\n",
    "    print(te)"
   ]
  },
  {
   "cell_type": "code",
   "execution_count": 4,
   "metadata": {},
   "outputs": [
    {
     "data": {
      "text/plain": [
       "<openai._legacy_response.HttpxBinaryResponseContent at 0x104989ac0>"
      ]
     },
     "execution_count": 4,
     "metadata": {},
     "output_type": "execute_result"
    }
   ],
   "source": [
    "response"
   ]
  },
  {
   "cell_type": "code",
   "execution_count": null,
   "metadata": {},
   "outputs": [],
   "source": []
  }
 ],
 "metadata": {
  "kernelspec": {
   "display_name": ".venv",
   "language": "python",
   "name": "python3"
  },
  "language_info": {
   "codemirror_mode": {
    "name": "ipython",
    "version": 3
   },
   "file_extension": ".py",
   "mimetype": "text/x-python",
   "name": "python",
   "nbconvert_exporter": "python",
   "pygments_lexer": "ipython3",
   "version": "3.12.1"
  }
 },
 "nbformat": 4,
 "nbformat_minor": 2
}
