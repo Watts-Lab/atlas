{
 "cells": [
  {
   "cell_type": "code",
   "execution_count": 1,
   "metadata": {},
   "outputs": [],
   "source": [
    "import importlib"
   ]
  },
  {
   "cell_type": "code",
   "execution_count": 8,
   "metadata": {},
   "outputs": [],
   "source": [
    "FEATURES = [\n",
    "    \"features.condition.condition\",\n",
    "    \"features.condition.condition_name\",\n",
    "    \"features.condition.condition_description\",\n",
    "    \"features.condition.condition_type\",\n",
    "    \"features.condition.condition_message\",\n",
    "]"
   ]
  },
  {
   "cell_type": "code",
   "execution_count": 9,
   "metadata": {},
   "outputs": [
    {
     "name": "stdout",
     "output_type": "stream",
     "text": [
      "Feature initialized. () {}\n",
      "Condition initialized. () {}\n",
      "This is the Condition class.\n",
      "Feature initialized. () {}\n",
      "Condition Name Feature initialized. () {}\n",
      "This is the Condition Name class.\n",
      "Feature initialized. () {}\n",
      "Condition Description Feature initialized. () {}\n",
      "This is the Condition Description class.\n",
      "Feature initialized. () {}\n",
      "Condition type Feature initialized. () {}\n",
      "This is the Condition type class.\n",
      "Feature initialized. () {}\n",
      "Condition message Feature initialized. () {}\n",
      "This is the Condition message class.\n"
     ]
    }
   ],
   "source": [
    "FEATURES = [\n",
    "    \"features.condition.condition\",     # This is the feature parent\n",
    "    \"features.condition.condition_name\",\n",
    "    \"features.condition.condition_description\",\n",
    "    \"features.condition.condition_type\",\n",
    "    \"features.condition.condition_message\",\n",
    "]\n",
    "\n",
    "def load_feature(module_path):\n",
    "    module = importlib.import_module(module_path)\n",
    "    return module.Feature\n",
    "\n",
    "\n",
    "for feature_path in FEATURES:\n",
    "    FeatureClass = load_feature(feature_path)\n",
    "    feature_instance = FeatureClass()\n",
    "    feature_instance.display()"
   ]
  },
  {
   "cell_type": "code",
   "execution_count": 12,
   "metadata": {},
   "outputs": [
    {
     "name": "stdout",
     "output_type": "stream",
     "text": [
      "Feature initialized. () {}\n",
      "Condition initialized. () {}\n",
      "Feature condition\n"
     ]
    }
   ],
   "source": [
    "import features.condition.condition as cd\n",
    "\n",
    "print(cd.Feature())\n"
   ]
  },
  {
   "cell_type": "code",
   "execution_count": null,
   "metadata": {},
   "outputs": [],
   "source": []
  }
 ],
 "metadata": {
  "kernelspec": {
   "display_name": ".venv",
   "language": "python",
   "name": "python3"
  },
  "language_info": {
   "codemirror_mode": {
    "name": "ipython",
    "version": 3
   },
   "file_extension": ".py",
   "mimetype": "text/x-python",
   "name": "python",
   "nbconvert_exporter": "python",
   "pygments_lexer": "ipython3",
   "version": "3.12.1"
  }
 },
 "nbformat": 4,
 "nbformat_minor": 2
}
