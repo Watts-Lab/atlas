{
 "cells": [
  {
   "cell_type": "code",
   "execution_count": 26,
   "metadata": {},
   "outputs": [],
   "source": [
    "import importlib"
   ]
  },
  {
   "cell_type": "code",
   "execution_count": 52,
   "metadata": {},
   "outputs": [],
   "source": [
    "FEATURES = [\n",
    "    \"features.condition.condition_name\",\n",
    "    \"features.condition.condition_description\",\n",
    "]"
   ]
  },
  {
   "cell_type": "code",
   "execution_count": 53,
   "metadata": {},
   "outputs": [
    {
     "data": {
      "text/plain": [
       "'features.condition.condition_name'"
      ]
     },
     "execution_count": 53,
     "metadata": {},
     "output_type": "execute_result"
    }
   ],
   "source": [
    "FEATURES[0]"
   ]
  },
  {
   "cell_type": "code",
   "execution_count": 57,
   "metadata": {},
   "outputs": [
    {
     "name": "stdout",
     "output_type": "stream",
     "text": [
      "Feature initialized. () {}\n",
      "This is the Condition Name class.\n",
      "Feature initialized. () {}\n",
      "This is the Condition Description class.\n"
     ]
    }
   ],
   "source": [
    "FEATURES = [\n",
    "    \"features.condition.condition_name\",\n",
    "    \"features.condition.condition_description\",\n",
    "]\n",
    "\n",
    "def load_feature(module_path):\n",
    "    module = importlib.import_module(module_path)\n",
    "    return module.Feature\n",
    "\n",
    "for feature_path in FEATURES:\n",
    "    FeatureClass = load_feature(feature_path)\n",
    "    feature_instance = FeatureClass()\n",
    "    feature_instance.display()"
   ]
  },
  {
   "cell_type": "code",
   "execution_count": 48,
   "metadata": {},
   "outputs": [
    {
     "name": "stdout",
     "output_type": "stream",
     "text": [
      "Feature initialized. () {}\n",
      "This is the ConditionName class.\n"
     ]
    }
   ],
   "source": []
  },
  {
   "cell_type": "code",
   "execution_count": null,
   "metadata": {},
   "outputs": [],
   "source": []
  }
 ],
 "metadata": {
  "kernelspec": {
   "display_name": ".venv",
   "language": "python",
   "name": "python3"
  },
  "language_info": {
   "codemirror_mode": {
    "name": "ipython",
    "version": 3
   },
   "file_extension": ".py",
   "mimetype": "text/x-python",
   "name": "python",
   "nbconvert_exporter": "python",
   "pygments_lexer": "ipython3",
   "version": "3.12.1"
  }
 },
 "nbformat": 4,
 "nbformat_minor": 2
}
